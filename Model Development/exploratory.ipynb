{
 "cells": [
  {
   "cell_type": "code",
   "execution_count": 1,
   "source": [
    "import pandas as pd"
   ],
   "outputs": [],
   "metadata": {}
  },
  {
   "cell_type": "code",
   "execution_count": 3,
   "source": [
    "master_df = pd.read_csv('/Users/nickospelt/Documents/App Projects/PGA_Score_Predictor/Data/master_pga_dataset.csv')"
   ],
   "outputs": [],
   "metadata": {}
  },
  {
   "cell_type": "code",
   "execution_count": 5,
   "source": [
    "print(f\"Max Score: {master_df['SCORE'].max()}\")\n",
    "print(f\"Min Score: {master_df['SCORE'].min()}\")\n"
   ],
   "outputs": [
    {
     "output_type": "stream",
     "name": "stdout",
     "text": [
      "Max Score: 81\n",
      "Min Score: 62\n"
     ]
    }
   ],
   "metadata": {}
  }
 ],
 "metadata": {
  "orig_nbformat": 4,
  "language_info": {
   "name": "python",
   "version": "3.6.13",
   "mimetype": "text/x-python",
   "codemirror_mode": {
    "name": "ipython",
    "version": 3
   },
   "pygments_lexer": "ipython3",
   "nbconvert_exporter": "python",
   "file_extension": ".py"
  },
  "kernelspec": {
   "name": "python3",
   "display_name": "Python 3.6.13 64-bit ('tensor': conda)"
  },
  "interpreter": {
   "hash": "1fc9f81460a61c28a467aea07799c455e3304e78606817f9292b985edf04cb42"
  }
 },
 "nbformat": 4,
 "nbformat_minor": 2
}